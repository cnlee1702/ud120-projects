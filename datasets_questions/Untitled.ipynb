{
 "cells": [
  {
   "cell_type": "code",
   "execution_count": 1,
   "metadata": {
    "collapsed": true
   },
   "outputs": [],
   "source": [
    "import pickle"
   ]
  },
  {
   "cell_type": "code",
   "execution_count": 2,
   "metadata": {
    "collapsed": true
   },
   "outputs": [],
   "source": [
    "original = \"C:/Users/nal17/Documents/ud120-projects/final_project/final_project_dataset.pkl\"\n",
    "destination = \"C:/Users/nal17/Documents/ud120-projects/final_project/final_project_dataset_final.pkl\"\n",
    "\n",
    "content = ''\n",
    "outsize = 0\n",
    "with open(original, 'rb') as infile:\n",
    "    content = infile.read()\n",
    "with open(destination, 'wb') as output:\n",
    "    for line in content.splitlines():\n",
    "        outsize += len(line) + 1\n",
    "        output.write(line + str.encode('\\n'))\n",
    "\n",
    "enron_data = pickle.load(open('C:/Users/nal17/Documents/ud120-projects/final_project/final_project_dataset_final.pkl', \"rb\"))\n"
   ]
  },
  {
   "cell_type": "code",
   "execution_count": 3,
   "metadata": {
    "collapsed": true
   },
   "outputs": [],
   "source": [
    "import pandas as pd"
   ]
  },
  {
   "cell_type": "code",
   "execution_count": 4,
   "metadata": {
    "collapsed": true
   },
   "outputs": [],
   "source": [
    "df = pd.DataFrame(enron_data)"
   ]
  },
  {
   "cell_type": "code",
   "execution_count": 5,
   "metadata": {},
   "outputs": [
    {
     "data": {
      "text/plain": [
       "count       146\n",
       "unique        2\n",
       "top       False\n",
       "freq        128\n",
       "Name: poi, dtype: object"
      ]
     },
     "execution_count": 5,
     "metadata": {},
     "output_type": "execute_result"
    }
   ],
   "source": [
    "df.loc['poi'].describe()"
   ]
  },
  {
   "cell_type": "code",
   "execution_count": 5,
   "metadata": {
    "collapsed": true
   },
   "outputs": [],
   "source": [
    "def poiEmails():\n",
    "    email_list = [\"kenneth_lay@enron.net\",    \n",
    "            \"kenneth_lay@enron.com\",\n",
    "            \"klay.enron@enron.com\",\n",
    "            \"kenneth.lay@enron.com\", \n",
    "            \"klay@enron.com\",\n",
    "            \"layk@enron.com\",\n",
    "            \"chairman.ken@enron.com\",\n",
    "            \"jeffreyskilling@yahoo.com\",\n",
    "            \"jeff_skilling@enron.com\",\n",
    "            \"jskilling@enron.com\",\n",
    "            \"effrey.skilling@enron.com\",\n",
    "            \"skilling@enron.com\",\n",
    "            \"jeffrey.k.skilling@enron.com\",\n",
    "            \"jeff.skilling@enron.com\",\n",
    "            \"kevin_a_howard.enronxgate.enron@enron.net\",\n",
    "            \"kevin.howard@enron.com\",\n",
    "            \"kevin.howard@enron.net\",\n",
    "            \"kevin.howard@gcm.com\",\n",
    "            \"michael.krautz@enron.com\"\n",
    "            \"scott.yeager@enron.com\",\n",
    "            \"syeager@fyi-net.com\",\n",
    "            \"scott_yeager@enron.net\",\n",
    "            \"syeager@flash.net\",\n",
    "            \"joe'.'hirko@enron.com\", \n",
    "            \"joe.hirko@enron.com\", \n",
    "            \"rex.shelby@enron.com\", \n",
    "            \"rex.shelby@enron.nt\", \n",
    "            \"rex_shelby@enron.net\",\n",
    "            \"jbrown@enron.com\",\n",
    "            \"james.brown@enron.com\", \n",
    "            \"rick.causey@enron.com\", \n",
    "            \"richard.causey@enron.com\", \n",
    "            \"rcausey@enron.com\",\n",
    "            \"calger@enron.com\",\n",
    "            \"chris.calger@enron.com\", \n",
    "            \"christopher.calger@enron.com\", \n",
    "            \"ccalger@enron.com\",\n",
    "            \"tim_despain.enronxgate.enron@enron.net\", \n",
    "            \"tim.despain@enron.com\",\n",
    "            \"kevin_hannon@enron.com\", \n",
    "            \"kevin'.'hannon@enron.com\", \n",
    "            \"kevin_hannon@enron.net\", \n",
    "            \"kevin.hannon@enron.com\",\n",
    "            \"mkoenig@enron.com\", \n",
    "            \"mark.koenig@enron.com\",\n",
    "            \"m..forney@enron.com\",\n",
    "            \"ken'.'rice@enron.com\", \n",
    "            \"ken.rice@enron.com\",\n",
    "            \"ken_rice@enron.com\", \n",
    "            \"ken_rice@enron.net\",\n",
    "            \"paula.rieker@enron.com\",\n",
    "            \"prieker@enron.com\", \n",
    "            \"andrew.fastow@enron.com\", \n",
    "            \"lfastow@pdq.net\", \n",
    "            \"andrew.s.fastow@enron.com\", \n",
    "            \"lfastow@pop.pdq.net\", \n",
    "            \"andy.fastow@enron.com\",\n",
    "            \"david.w.delainey@enron.com\", \n",
    "            \"delainey.dave@enron.com\", \n",
    "            \"'delainey@enron.com\", \n",
    "            \"david.delainey@enron.com\", \n",
    "            \"'david.delainey'@enron.com\", \n",
    "            \"dave.delainey@enron.com\", \n",
    "            \"delainey'.'david@enron.com\",\n",
    "            \"ben.glisan@enron.com\", \n",
    "            \"bglisan@enron.com\", \n",
    "            \"ben_f_glisan@enron.com\", \n",
    "            \"ben'.'glisan@enron.com\",\n",
    "            \"jeff.richter@enron.com\", \n",
    "            \"jrichter@nwlink.com\",\n",
    "            \"lawrencelawyer@aol.com\", \n",
    "            \"lawyer'.'larry@enron.com\", \n",
    "            \"larry_lawyer@enron.com\", \n",
    "            \"llawyer@enron.com\", \n",
    "            \"larry.lawyer@enron.com\", \n",
    "            \"lawrence.lawyer@enron.com\",\n",
    "            \"tbelden@enron.com\", \n",
    "            \"tim.belden@enron.com\", \n",
    "            \"tim_belden@pgn.com\", \n",
    "            \"tbelden@ect.enron.com\",\n",
    "            \"michael.kopper@enron.com\",\n",
    "            \"dave.duncan@enron.com\", \n",
    "            \"dave.duncan@cipco.org\", \n",
    "            \"duncan.dave@enron.com\",\n",
    "            \"ray.bowen@enron.com\", \n",
    "            \"raymond.bowen@enron.com\", \n",
    "            \"'bowen@enron.com\",\n",
    "            \"wes.colwell@enron.com\",\n",
    "            \"dan.boyle@enron.com\",\n",
    "            \"cloehr@enron.com\", \n",
    "            \"chris.loehr@enron.com\"\n",
    "        ]\n",
    "    return email_list"
   ]
  },
  {
   "cell_type": "code",
   "execution_count": 6,
   "metadata": {
    "collapsed": true
   },
   "outputs": [],
   "source": [
    "list = poiEmails()"
   ]
  },
  {
   "cell_type": "code",
   "execution_count": 7,
   "metadata": {},
   "outputs": [
    {
     "data": {
      "text/plain": [
       "90"
      ]
     },
     "execution_count": 7,
     "metadata": {},
     "output_type": "execute_result"
    }
   ],
   "source": [
    "len(list)"
   ]
  },
  {
   "cell_type": "code",
   "execution_count": 9,
   "metadata": {},
   "outputs": [
    {
     "data": {
      "text/plain": [
       "bonus                                      1200000\n",
       "deferral_payments                            27610\n",
       "deferred_income                            -144062\n",
       "director_fees                                  NaN\n",
       "email_address                wes.colwell@enron.com\n",
       "exercised_stock_options                        NaN\n",
       "expenses                                     16514\n",
       "from_messages                                   40\n",
       "from_poi_to_this_person                        240\n",
       "from_this_person_to_poi                         11\n",
       "loan_advances                                  NaN\n",
       "long_term_incentive                            NaN\n",
       "other                                       101740\n",
       "poi                                           True\n",
       "restricted_stock                            698242\n",
       "restricted_stock_deferred                      NaN\n",
       "salary                                      288542\n",
       "shared_receipt_with_poi                       1132\n",
       "to_messages                                   1758\n",
       "total_payments                             1490344\n",
       "total_stock_value                           698242\n",
       "Name: COLWELL WESLEY, dtype: object"
      ]
     },
     "execution_count": 9,
     "metadata": {},
     "output_type": "execute_result"
    }
   ],
   "source": [
    "df['COLWELL WESLEY']"
   ]
  },
  {
   "cell_type": "code",
   "execution_count": 10,
   "metadata": {},
   "outputs": [
    {
     "data": {
      "text/plain": [
       "bonus                                        5600000\n",
       "deferral_payments                                NaN\n",
       "deferred_income                                  NaN\n",
       "director_fees                                    NaN\n",
       "email_address                jeff.skilling@enron.com\n",
       "exercised_stock_options                     19250000\n",
       "expenses                                       29336\n",
       "from_messages                                    108\n",
       "from_poi_to_this_person                           88\n",
       "from_this_person_to_poi                           30\n",
       "loan_advances                                    NaN\n",
       "long_term_incentive                          1920000\n",
       "other                                          22122\n",
       "poi                                             True\n",
       "restricted_stock                             6843672\n",
       "restricted_stock_deferred                        NaN\n",
       "salary                                       1111258\n",
       "shared_receipt_with_poi                         2042\n",
       "to_messages                                     3627\n",
       "total_payments                               8682716\n",
       "total_stock_value                           26093672\n",
       "Name: SKILLING JEFFREY K, dtype: object"
      ]
     },
     "execution_count": 10,
     "metadata": {},
     "output_type": "execute_result"
    }
   ],
   "source": [
    "df['SKILLING JEFFREY K']"
   ]
  },
  {
   "cell_type": "code",
   "execution_count": 32,
   "metadata": {},
   "outputs": [
    {
     "data": {
      "text/plain": [
       "FASTOW ANDREW S         2424083\n",
       "SKILLING JEFFREY K      8682716\n",
       "LAY KENNETH L         103559793\n",
       "Name: total_payments, dtype: object"
      ]
     },
     "execution_count": 32,
     "metadata": {},
     "output_type": "execute_result"
    }
   ],
   "source": [
    "df.loc['total_payments',['FASTOW ANDREW S','SKILLING JEFFREY K','LAY KENNETH L']]"
   ]
  },
  {
   "cell_type": "code",
   "execution_count": 27,
   "metadata": {},
   "outputs": [
    {
     "data": {
      "text/plain": [
       "False"
      ]
     },
     "execution_count": 27,
     "metadata": {},
     "output_type": "execute_result"
    }
   ],
   "source": [
    "'LAY' in df.columns"
   ]
  },
  {
   "cell_type": "code",
   "execution_count": 39,
   "metadata": {},
   "outputs": [
    {
     "data": {
      "text/plain": [
       "(array([201955, 'NaN', 477, 267102, 239671, 80818, 231330, 213999, 216582,\n",
       "        187922, 213625, 248546, 278601, 248017, 261516, 330546, 240189,\n",
       "        261809, 415189, 288542, 314288, 184899, 206121, 365163, 492375,\n",
       "        210500, 250100, 262788, 221003, 210692, 182245, 170941, 304588,\n",
       "        440698, 199157, 1060932, 192008, 231946, 274975, 272880, 6615,\n",
       "        374125, 243293, 262663, 211788, 130724, 85274, 288558, 275101,\n",
       "        404338, 174246, 271442, 309946, 224305, 339288, 1072321, 273746,\n",
       "        236457, 349487, 263413, 365038, 370448, 365788, 267093, 251654,\n",
       "        229284, 329078, 94941, 261879, 655037, 197091, 96840, 76399, 420636,\n",
       "        249201, 304110, 269076, 248146, 211844, 428780, 1111258, 239502,\n",
       "        162779, 257486, 265214, 222093, 247338, 26704229, 288589, 357091,\n",
       "        259996, 63744, 510364, 317543, 158403], dtype=object), count     146\n",
       " unique     95\n",
       " top       NaN\n",
       " freq       51\n",
       " Name: salary, dtype: object)"
      ]
     },
     "execution_count": 39,
     "metadata": {},
     "output_type": "execute_result"
    }
   ],
   "source": [
    "df.loc['salary'].unique(),df.loc['salary'].describe()"
   ]
  },
  {
   "cell_type": "code",
   "execution_count": 37,
   "metadata": {},
   "outputs": [
    {
     "data": {
      "text/plain": [
       "count     146\n",
       "unique    112\n",
       "top       NaN\n",
       "freq       35\n",
       "Name: email_address, dtype: object"
      ]
     },
     "execution_count": 37,
     "metadata": {},
     "output_type": "execute_result"
    }
   ],
   "source": [
    "df.loc['email_address'].describe()"
   ]
  },
  {
   "cell_type": "code",
   "execution_count": 40,
   "metadata": {},
   "outputs": [
    {
     "data": {
      "text/plain": [
       "count     146\n",
       "unique    126\n",
       "top       NaN\n",
       "freq       21\n",
       "Name: total_payments, dtype: object"
      ]
     },
     "execution_count": 40,
     "metadata": {},
     "output_type": "execute_result"
    }
   ],
   "source": [
    "df.loc['total_payments'].describe()"
   ]
  },
  {
   "cell_type": "code",
   "execution_count": 41,
   "metadata": {},
   "outputs": [
    {
     "data": {
      "text/html": [
       "<div>\n",
       "<table border=\"1\" class=\"dataframe\">\n",
       "  <thead>\n",
       "    <tr style=\"text-align: right;\">\n",
       "      <th></th>\n",
       "      <th>ALLEN PHILLIP K</th>\n",
       "      <th>BADUM JAMES P</th>\n",
       "      <th>BANNANTINE JAMES M</th>\n",
       "      <th>BAXTER JOHN C</th>\n",
       "      <th>BAY FRANKLIN R</th>\n",
       "      <th>BAZELIDES PHILIP J</th>\n",
       "      <th>BECK SALLY W</th>\n",
       "      <th>BELDEN TIMOTHY N</th>\n",
       "      <th>BELFER ROBERT</th>\n",
       "      <th>BERBERIAN DAVID</th>\n",
       "      <th>...</th>\n",
       "      <th>WASAFF GEORGE</th>\n",
       "      <th>WESTFAHL RICHARD K</th>\n",
       "      <th>WHALEY DAVID A</th>\n",
       "      <th>WHALLEY LAWRENCE G</th>\n",
       "      <th>WHITE JR THOMAS E</th>\n",
       "      <th>WINOKUR JR. HERBERT S</th>\n",
       "      <th>WODRASKA JOHN</th>\n",
       "      <th>WROBEL BRUCE</th>\n",
       "      <th>YEAGER F SCOTT</th>\n",
       "      <th>YEAP SOON</th>\n",
       "    </tr>\n",
       "  </thead>\n",
       "  <tbody>\n",
       "    <tr>\n",
       "      <th>bonus</th>\n",
       "      <td>4175000</td>\n",
       "      <td>NaN</td>\n",
       "      <td>NaN</td>\n",
       "      <td>1200000</td>\n",
       "      <td>400000</td>\n",
       "      <td>NaN</td>\n",
       "      <td>700000</td>\n",
       "      <td>5249999</td>\n",
       "      <td>NaN</td>\n",
       "      <td>NaN</td>\n",
       "      <td>...</td>\n",
       "      <td>325000</td>\n",
       "      <td>NaN</td>\n",
       "      <td>NaN</td>\n",
       "      <td>3000000</td>\n",
       "      <td>450000</td>\n",
       "      <td>NaN</td>\n",
       "      <td>NaN</td>\n",
       "      <td>NaN</td>\n",
       "      <td>NaN</td>\n",
       "      <td>NaN</td>\n",
       "    </tr>\n",
       "    <tr>\n",
       "      <th>deferral_payments</th>\n",
       "      <td>2869717</td>\n",
       "      <td>178980</td>\n",
       "      <td>NaN</td>\n",
       "      <td>1295738</td>\n",
       "      <td>260455</td>\n",
       "      <td>684694</td>\n",
       "      <td>NaN</td>\n",
       "      <td>2144013</td>\n",
       "      <td>-102500</td>\n",
       "      <td>NaN</td>\n",
       "      <td>...</td>\n",
       "      <td>831299</td>\n",
       "      <td>NaN</td>\n",
       "      <td>NaN</td>\n",
       "      <td>NaN</td>\n",
       "      <td>NaN</td>\n",
       "      <td>NaN</td>\n",
       "      <td>NaN</td>\n",
       "      <td>NaN</td>\n",
       "      <td>NaN</td>\n",
       "      <td>NaN</td>\n",
       "    </tr>\n",
       "    <tr>\n",
       "      <th>deferred_income</th>\n",
       "      <td>-3081055</td>\n",
       "      <td>NaN</td>\n",
       "      <td>-5104</td>\n",
       "      <td>-1386055</td>\n",
       "      <td>-201641</td>\n",
       "      <td>NaN</td>\n",
       "      <td>NaN</td>\n",
       "      <td>-2334434</td>\n",
       "      <td>NaN</td>\n",
       "      <td>NaN</td>\n",
       "      <td>...</td>\n",
       "      <td>-583325</td>\n",
       "      <td>-10800</td>\n",
       "      <td>NaN</td>\n",
       "      <td>NaN</td>\n",
       "      <td>NaN</td>\n",
       "      <td>-25000</td>\n",
       "      <td>NaN</td>\n",
       "      <td>NaN</td>\n",
       "      <td>NaN</td>\n",
       "      <td>NaN</td>\n",
       "    </tr>\n",
       "    <tr>\n",
       "      <th>director_fees</th>\n",
       "      <td>NaN</td>\n",
       "      <td>NaN</td>\n",
       "      <td>NaN</td>\n",
       "      <td>NaN</td>\n",
       "      <td>NaN</td>\n",
       "      <td>NaN</td>\n",
       "      <td>NaN</td>\n",
       "      <td>NaN</td>\n",
       "      <td>3285</td>\n",
       "      <td>NaN</td>\n",
       "      <td>...</td>\n",
       "      <td>NaN</td>\n",
       "      <td>NaN</td>\n",
       "      <td>NaN</td>\n",
       "      <td>NaN</td>\n",
       "      <td>NaN</td>\n",
       "      <td>108579</td>\n",
       "      <td>NaN</td>\n",
       "      <td>NaN</td>\n",
       "      <td>NaN</td>\n",
       "      <td>NaN</td>\n",
       "    </tr>\n",
       "    <tr>\n",
       "      <th>email_address</th>\n",
       "      <td>phillip.allen@enron.com</td>\n",
       "      <td>NaN</td>\n",
       "      <td>james.bannantine@enron.com</td>\n",
       "      <td>NaN</td>\n",
       "      <td>frank.bay@enron.com</td>\n",
       "      <td>NaN</td>\n",
       "      <td>sally.beck@enron.com</td>\n",
       "      <td>tim.belden@enron.com</td>\n",
       "      <td>NaN</td>\n",
       "      <td>david.berberian@enron.com</td>\n",
       "      <td>...</td>\n",
       "      <td>george.wasaff@enron.com</td>\n",
       "      <td>dick.westfahl@enron.com</td>\n",
       "      <td>NaN</td>\n",
       "      <td>greg.whalley@enron.com</td>\n",
       "      <td>thomas.white@enron.com</td>\n",
       "      <td>NaN</td>\n",
       "      <td>john.wodraska@enron.com</td>\n",
       "      <td>NaN</td>\n",
       "      <td>scott.yeager@enron.com</td>\n",
       "      <td>NaN</td>\n",
       "    </tr>\n",
       "  </tbody>\n",
       "</table>\n",
       "<p>5 rows × 146 columns</p>\n",
       "</div>"
      ],
      "text/plain": [
       "                           ALLEN PHILLIP K BADUM JAMES P  \\\n",
       "bonus                              4175000           NaN   \n",
       "deferral_payments                  2869717        178980   \n",
       "deferred_income                   -3081055           NaN   \n",
       "director_fees                          NaN           NaN   \n",
       "email_address      phillip.allen@enron.com           NaN   \n",
       "\n",
       "                           BANNANTINE JAMES M BAXTER JOHN C  \\\n",
       "bonus                                     NaN       1200000   \n",
       "deferral_payments                         NaN       1295738   \n",
       "deferred_income                         -5104      -1386055   \n",
       "director_fees                             NaN           NaN   \n",
       "email_address      james.bannantine@enron.com           NaN   \n",
       "\n",
       "                        BAY FRANKLIN R BAZELIDES PHILIP J  \\\n",
       "bonus                           400000                NaN   \n",
       "deferral_payments               260455             684694   \n",
       "deferred_income                -201641                NaN   \n",
       "director_fees                      NaN                NaN   \n",
       "email_address      frank.bay@enron.com                NaN   \n",
       "\n",
       "                           BECK SALLY W      BELDEN TIMOTHY N BELFER ROBERT  \\\n",
       "bonus                            700000               5249999           NaN   \n",
       "deferral_payments                   NaN               2144013       -102500   \n",
       "deferred_income                     NaN              -2334434           NaN   \n",
       "director_fees                       NaN                   NaN          3285   \n",
       "email_address      sally.beck@enron.com  tim.belden@enron.com           NaN   \n",
       "\n",
       "                             BERBERIAN DAVID    ...     \\\n",
       "bonus                                    NaN    ...      \n",
       "deferral_payments                        NaN    ...      \n",
       "deferred_income                          NaN    ...      \n",
       "director_fees                            NaN    ...      \n",
       "email_address      david.berberian@enron.com    ...      \n",
       "\n",
       "                             WASAFF GEORGE       WESTFAHL RICHARD K  \\\n",
       "bonus                               325000                      NaN   \n",
       "deferral_payments                   831299                      NaN   \n",
       "deferred_income                    -583325                   -10800   \n",
       "director_fees                          NaN                      NaN   \n",
       "email_address      george.wasaff@enron.com  dick.westfahl@enron.com   \n",
       "\n",
       "                  WHALEY DAVID A      WHALLEY LAWRENCE G  \\\n",
       "bonus                        NaN                 3000000   \n",
       "deferral_payments            NaN                     NaN   \n",
       "deferred_income              NaN                     NaN   \n",
       "director_fees                NaN                     NaN   \n",
       "email_address                NaN  greg.whalley@enron.com   \n",
       "\n",
       "                        WHITE JR THOMAS E WINOKUR JR. HERBERT S  \\\n",
       "bonus                              450000                   NaN   \n",
       "deferral_payments                     NaN                   NaN   \n",
       "deferred_income                       NaN                -25000   \n",
       "director_fees                         NaN                108579   \n",
       "email_address      thomas.white@enron.com                   NaN   \n",
       "\n",
       "                             WODRASKA JOHN WROBEL BRUCE  \\\n",
       "bonus                                  NaN          NaN   \n",
       "deferral_payments                      NaN          NaN   \n",
       "deferred_income                        NaN          NaN   \n",
       "director_fees                          NaN          NaN   \n",
       "email_address      john.wodraska@enron.com          NaN   \n",
       "\n",
       "                           YEAGER F SCOTT YEAP SOON  \n",
       "bonus                                 NaN       NaN  \n",
       "deferral_payments                     NaN       NaN  \n",
       "deferred_income                       NaN       NaN  \n",
       "director_fees                         NaN       NaN  \n",
       "email_address      scott.yeager@enron.com       NaN  \n",
       "\n",
       "[5 rows x 146 columns]"
      ]
     },
     "execution_count": 41,
     "metadata": {},
     "output_type": "execute_result"
    }
   ],
   "source": [
    "df.head()"
   ]
  },
  {
   "cell_type": "code",
   "execution_count": 54,
   "metadata": {},
   "outputs": [
    {
     "data": {
      "text/plain": [
       "BELDEN TIMOTHY N          5501630\n",
       "BOWEN JR RAYMOND M        2669589\n",
       "CALGER CHRISTOPHER F      1639297\n",
       "CAUSEY RICHARD A          1868758\n",
       "COLWELL WESLEY            1490344\n",
       "DELAINEY DAVID W          4747979\n",
       "FASTOW ANDREW S           2424083\n",
       "GLISAN JR BEN F           1272284\n",
       "HANNON KEVIN P             288682\n",
       "HIRKO JOSEPH                91093\n",
       "KOENIG MARK E             1587421\n",
       "KOPPER MICHAEL J          2652612\n",
       "LAY KENNETH L           103559793\n",
       "RICE KENNETH D             505050\n",
       "RIEKER PAULA H            1099100\n",
       "SHELBY REX                2003885\n",
       "SKILLING JEFFREY K        8682716\n",
       "YEAGER F SCOTT             360300\n",
       "Name: total_payments, dtype: object"
      ]
     },
     "execution_count": 54,
     "metadata": {},
     "output_type": "execute_result"
    }
   ],
   "source": [
    "df.loc['total_payments'][df.loc['poi']==True]"
   ]
  },
  {
   "cell_type": "code",
   "execution_count": 10,
   "metadata": {},
   "outputs": [
    {
     "data": {
      "text/plain": [
       "count       18\n",
       "unique       1\n",
       "top       True\n",
       "freq        18\n",
       "Name: poi, dtype: object"
      ]
     },
     "execution_count": 10,
     "metadata": {},
     "output_type": "execute_result"
    }
   ],
   "source": [
    "df.loc['poi'][df.loc['poi']==True].describe()"
   ]
  },
  {
   "cell_type": "code",
   "execution_count": null,
   "metadata": {
    "collapsed": true
   },
   "outputs": [],
   "source": []
  }
 ],
 "metadata": {
  "kernelspec": {
   "display_name": "Python 3",
   "language": "python",
   "name": "python3"
  },
  "language_info": {
   "codemirror_mode": {
    "name": "ipython",
    "version": 3
   },
   "file_extension": ".py",
   "mimetype": "text/x-python",
   "name": "python",
   "nbconvert_exporter": "python",
   "pygments_lexer": "ipython3",
   "version": "3.6.1"
  }
 },
 "nbformat": 4,
 "nbformat_minor": 2
}
